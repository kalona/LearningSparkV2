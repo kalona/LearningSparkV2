{
 "cells": [
  {
   "cell_type": "code",
   "execution_count": 1,
   "id": "f98a02ea",
   "metadata": {},
   "outputs": [
    {
     "name": "stderr",
     "output_type": "stream",
     "text": [
      "WARNING: Using incubator modules: jdk.incubator.vector\n",
      "Using Spark's default log4j profile: org/apache/spark/log4j2-defaults.properties\n",
      "25/09/10 16:24:43 WARN Utils: Your hostname, ubuntu-ampere, resolves to a loopback address: 127.0.1.1; using 10.0.0.14 instead (on interface enp0s6)\n",
      "25/09/10 16:24:43 WARN Utils: Set SPARK_LOCAL_IP if you need to bind to another address\n",
      "Using Spark's default log4j profile: org/apache/spark/log4j2-defaults.properties\n",
      "Setting default log level to \"WARN\".\n",
      "To adjust logging level use sc.setLogLevel(newLevel). For SparkR, use setLogLevel(newLevel).\n",
      "25/09/10 16:24:44 WARN NativeCodeLoader: Unable to load native-hadoop library for your platform... using builtin-java classes where applicable\n"
     ]
    }
   ],
   "source": [
    "from pyspark.sql import SparkSession\n",
    "\n",
    "spark = SparkSession.builder.appName(\n",
    "    \"Spark Application Concepts\"\n",
    ").getOrCreate()"
   ]
  },
  {
   "cell_type": "markdown",
   "id": "c781a1bd",
   "metadata": {},
   "source": [
    "Example Spark app run on cluster in non-interactive way"
   ]
  },
  {
   "cell_type": "code",
   "execution_count": null,
   "id": "298c749f",
   "metadata": {},
   "outputs": [],
   "source": [
    "def main():\n",
    "    # Initialize Spark session\n",
    "    spark = SparkSession.builder \\\n",
    "        .appName(\"DataProcessingApp\") \\\n",
    "        .getOrCreate()\n",
    "\n",
    "    # Read data from CSV file\n",
    "    df = spark.read.csv(\"data/input.csv\", header=True, inferSchema=True)\n",
    "\n",
    "    # Perform some transformations (e.g., filter rows where 'value' > 50)\n",
    "    filtered_df = df.filter(df['value'] > 50)\n",
    "\n",
    "    # Write the transformed data to a new CSV file\n",
    "    filtered_df.write.csv(\"data/output.csv\", header=True)\n",
    "\n",
    "    # Stop the Spark session\n",
    "    spark.stop()"
   ]
  },
  {
   "cell_type": "code",
   "execution_count": 4,
   "id": "d96fa809",
   "metadata": {},
   "outputs": [
    {
     "data": {
      "text/plain": [
       "'/data/study/data-eng/pyspark/LearningSparkV2/chapter2'"
      ]
     },
     "execution_count": 4,
     "metadata": {},
     "output_type": "execute_result"
    }
   ],
   "source": [
    "pwd"
   ]
  },
  {
   "cell_type": "code",
   "execution_count": 6,
   "id": "697d255a",
   "metadata": {},
   "outputs": [
    {
     "data": {
      "text/plain": [
       "1"
      ]
     },
     "execution_count": 6,
     "metadata": {},
     "output_type": "execute_result"
    }
   ],
   "source": [
    "strings = spark.read.text(\"README.md\")\n",
    "filtered = strings.filter(strings.value.contains(\"M&Ms\"))\n",
    "filtered.count()"
   ]
  }
 ],
 "metadata": {
  "kernelspec": {
   "display_name": "pyspark-4",
   "language": "python",
   "name": "python3"
  },
  "language_info": {
   "codemirror_mode": {
    "name": "ipython",
    "version": 3
   },
   "file_extension": ".py",
   "mimetype": "text/x-python",
   "name": "python",
   "nbconvert_exporter": "python",
   "pygments_lexer": "ipython3",
   "version": "3.12.11"
  }
 },
 "nbformat": 4,
 "nbformat_minor": 5
}
